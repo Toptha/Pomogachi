{
 "cells": [
  {
   "cell_type": "code",
   "execution_count": 1,
   "id": "d7e6d658",
   "metadata": {},
   "outputs": [],
   "source": [
    "sales_data = [\n",
    "    {'bean_type': 'Arabica', 'weight_kg': 5, 'price_per_kg': 12.50, 'is_organic': True},\n",
    "    {'bean_type': 'Robusta', 'weight_kg': 10, 'price_per_kg': 8.00, 'is_organic': False},\n",
    "    {'bean_type': 'Arabica', 'weight_kg': 7, 'price_per_kg': 12.50, 'is_organic': False},\n",
    "    {'bean_type': 'Liberica', 'weight_kg': 3, 'price_per_kg': 15.00, 'is_organic': True},\n",
    "    {'bean_type': 'Robusta', 'weight_kg': 8, 'price_per_kg': 8.00, 'is_organic': True},\n",
    "]"
   ]
  },
  {
   "cell_type": "code",
   "execution_count": 2,
   "id": "c950a2ca",
   "metadata": {},
   "outputs": [],
   "source": [
    "#Total Revenue\n",
    "revenues = list(map(lambda s: s['weight_kg'] * s['price_per_kg'], sales_data))\n"
   ]
  },
  {
   "cell_type": "code",
   "execution_count": 3,
   "id": "bcaccd9d",
   "metadata": {},
   "outputs": [],
   "source": [
    "#Filter organic sales\n",
    "organic_sales = list(filter(lambda s: s['is_organic'], sales_data))\n",
    "\n"
   ]
  },
  {
   "cell_type": "code",
   "execution_count": 4,
   "id": "f7a4f951",
   "metadata": {},
   "outputs": [],
   "source": [
    "#Total Organic Revenue\n",
    "def my_reduce(func, seq):\n",
    "    result = seq[0]\n",
    "    for item in seq[1:]:\n",
    "        result = func(result, item)\n",
    "    return result\n",
    "\n",
    "organic_revenues = list(map(lambda s: s['weight_kg'] * s['price_per_kg'], organic_sales))\n",
    "total_organic_revenue = my_reduce(lambda x, y: x + y, organic_revenues)"
   ]
  },
  {
   "cell_type": "code",
   "execution_count": 5,
   "id": "7c086452",
   "metadata": {},
   "outputs": [],
   "source": [
    "#Most expensive sale\n",
    "most_expensive_sale = my_reduce(\n",
    "    lambda a, b: a if a['weight_kg'] * a['price_per_kg'] > b['weight_kg'] * b['price_per_kg'] else b,\n",
    "    sales_data\n",
    ")"
   ]
  },
  {
   "cell_type": "code",
   "execution_count": 6,
   "id": "31388dfa",
   "metadata": {},
   "outputs": [],
   "source": [
    "def main():\n",
    "    print(\"Revenues:\", revenues)\n",
    "    print(\"Organic Sales:\", organic_sales)\n",
    "    print(\"Total Organic Revenue:\", total_organic_revenue)\n",
    "    print(\"Most Expensive Sale:\", most_expensive_sale)"
   ]
  },
  {
   "cell_type": "code",
   "execution_count": 7,
   "id": "8e64153c",
   "metadata": {},
   "outputs": [
    {
     "name": "stdout",
     "output_type": "stream",
     "text": [
      "Revenues: [62.5, 80.0, 87.5, 45.0, 64.0]\n",
      "Organic Sales: [{'bean_type': 'Arabica', 'weight_kg': 5, 'price_per_kg': 12.5, 'is_organic': True}, {'bean_type': 'Liberica', 'weight_kg': 3, 'price_per_kg': 15.0, 'is_organic': True}, {'bean_type': 'Robusta', 'weight_kg': 8, 'price_per_kg': 8.0, 'is_organic': True}]\n",
      "Total Organic Revenue: 171.5\n",
      "Most Expensive Sale: {'bean_type': 'Arabica', 'weight_kg': 7, 'price_per_kg': 12.5, 'is_organic': False}\n"
     ]
    }
   ],
   "source": [
    "if __name__ == \"__main__\":\n",
    "    main()"
   ]
  }
 ],
 "metadata": {
  "kernelspec": {
   "display_name": ".venv",
   "language": "python",
   "name": "python3"
  },
  "language_info": {
   "codemirror_mode": {
    "name": "ipython",
    "version": 3
   },
   "file_extension": ".py",
   "mimetype": "text/x-python",
   "name": "python",
   "nbconvert_exporter": "python",
   "pygments_lexer": "ipython3",
   "version": "3.13.0"
  }
 },
 "nbformat": 4,
 "nbformat_minor": 5
}
