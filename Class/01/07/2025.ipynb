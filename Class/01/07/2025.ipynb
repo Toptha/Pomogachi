{
 "cells": [
  {
   "cell_type": "code",
   "execution_count": 1,
   "id": "9bd66bbf",
   "metadata": {},
   "outputs": [
    {
     "name": "stdout",
     "output_type": "stream",
     "text": [
      "1 + 2 = 0\n",
      "2 + 3 = 1\n",
      "3 + 4 = 3\n",
      "4 + 5 = 6\n",
      "5 + 6 = 10\n"
     ]
    }
   ],
   "source": [
    "#sum of first 5 numbers using while loop\n",
    "i = 1\n",
    "sum = 0\n",
    "while i <= 5:\n",
    "    print(f\"{i} + {i + 1} = {sum}\")\n",
    "    sum += i\n",
    "    i += 1"
   ]
  },
  {
   "cell_type": "code",
   "execution_count": 2,
   "id": "43837de0",
   "metadata": {},
   "outputs": [
    {
     "name": "stdout",
     "output_type": "stream",
     "text": [
      "Write something:\n",
      "hiii\n"
     ]
    }
   ],
   "source": [
    "#user inputs in python\n",
    "print(\"Write something:\")\n",
    "user_input = input()\n",
    "print(user_input)"
   ]
  },
  {
   "cell_type": "code",
   "execution_count": null,
   "id": "6d99af85",
   "metadata": {},
   "outputs": [
    {
     "name": "stdout",
     "output_type": "stream",
     "text": [
      "Enter your marks:\n",
      "A+ 98\n"
     ]
    },
    {
     "ename": "",
     "evalue": "",
     "output_type": "error",
     "traceback": [
      "\u001b[1;31mThe Kernel crashed while executing code in the current cell or a previous cell. \n",
      "\u001b[1;31mPlease review the code in the cell(s) to identify a possible cause of the failure. \n",
      "\u001b[1;31mClick <a href='https://aka.ms/vscodeJupyterKernelCrash'>here</a> for more info. \n",
      "\u001b[1;31mView Jupyter <a href='command:jupyter.viewOutput'>log</a> for further details."
     ]
    }
   ],
   "source": [
    "#gradee\n",
    "print(\"Enter your marks:\")\n",
    "marks = int(input())\n",
    "if marks >= 90:\n",
    "    print(f\"A+ {marks}\")\n",
    "elif marks >= 80:\n",
    "    print(\"A\")\n",
    "elif marks >= 70:\n",
    "    print(\"B\")\n",
    "    "
   ]
  }
 ],
 "metadata": {
  "kernelspec": {
   "display_name": ".venv",
   "language": "python",
   "name": "python3"
  },
  "language_info": {
   "codemirror_mode": {
    "name": "ipython",
    "version": 3
   },
   "file_extension": ".py",
   "mimetype": "text/x-python",
   "name": "python",
   "nbconvert_exporter": "python",
   "pygments_lexer": "ipython3",
   "version": "3.13.0"
  }
 },
 "nbformat": 4,
 "nbformat_minor": 5
}
