{
 "cells": [
  {
   "cell_type": "code",
   "execution_count": 6,
   "id": "68fb6bdd",
   "metadata": {},
   "outputs": [],
   "source": [
    "def greet(name):\n",
    "    \"\"\"This function greets the person passed in as a parameter.\"\"\"\n",
    "    print(f\"Hello, {name}!\")\n",
    "    "
   ]
  },
  {
   "cell_type": "code",
   "execution_count": 5,
   "id": "14390f71",
   "metadata": {},
   "outputs": [],
   "source": [
    "def add(a,b):\n",
    "    \"\"\"This function returns the sum of two numbers.\"\"\"\n",
    "    return a + b"
   ]
  },
  {
   "cell_type": "code",
   "execution_count": null,
   "id": "fa5e3188",
   "metadata": {},
   "outputs": [
    {
     "name": "stdout",
     "output_type": "stream",
     "text": [
      "Hello, Alice!\n",
      "This function greets the person passed in as a parameter.\n",
      "\n",
      "\n",
      "12\n",
      "This function returns the sum of two numbers.\n",
      "\n",
      "\n",
      "30\n"
     ]
    }
   ],
   "source": [
    "def main():\n",
    "    greet(\"Alice\")\n",
    "    print(greet.__doc__)\n",
    "    print(\"\\n\")\n",
    "    print(add(5, 7))\n",
    "    print(add.__doc__)\n",
    "    print(\"\\n\")\n",
    "    print(add(a=10, b=20))\n",
    "if __name__ == \"__main__\":\n",
    "    main()"
   ]
  },
  {
   "cell_type": "code",
   "execution_count": 8,
   "id": "e3acb33e",
   "metadata": {},
   "outputs": [],
   "source": [
    "def total(*numbers):\n",
    "    \"\"\"This function returns the total sum of a list of numbers.\"\"\"\n",
    "    return sum(numbers)"
   ]
  },
  {
   "cell_type": "code",
   "execution_count": 10,
   "id": "dd4b1761",
   "metadata": {},
   "outputs": [],
   "source": [
    "def kwargs(**info):\n",
    "    \"\"\"This function prints key-value pairs passed as keyword arguments.\"\"\"\n",
    "    for key, value in info.items():\n",
    "        print(f\"{key}: {value}\")"
   ]
  },
  {
   "cell_type": "code",
   "execution_count": 12,
   "id": "5ccf2b55",
   "metadata": {},
   "outputs": [
    {
     "name": "stdout",
     "output_type": "stream",
     "text": [
      "10 \n",
      "\n",
      "name: Alice\n",
      "age: 30\n",
      "city: New York\n",
      "None\n"
     ]
    }
   ],
   "source": [
    "def main():\n",
    "    print(total(1,2,3,4), \"\\n\")\n",
    "    print(kwargs(name=\"Alice\", age=30, city=\"New York\"))\n",
    "if __name__ == \"__main__\":\n",
    "    main()"
   ]
  }
 ],
 "metadata": {
  "kernelspec": {
   "display_name": ".venv",
   "language": "python",
   "name": "python3"
  },
  "language_info": {
   "codemirror_mode": {
    "name": "ipython",
    "version": 3
   },
   "file_extension": ".py",
   "mimetype": "text/x-python",
   "name": "python",
   "nbconvert_exporter": "python",
   "pygments_lexer": "ipython3",
   "version": "3.13.0"
  }
 },
 "nbformat": 4,
 "nbformat_minor": 5
}
