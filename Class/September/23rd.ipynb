{
 "cells": [
  {
   "cell_type": "code",
   "execution_count": null,
   "id": "b91fc966",
   "metadata": {},
   "outputs": [],
   "source": [
    "# building a custom calculator module\n",
    "\n",
    "__all__ = [\"add\", \"subtract\", \"multiply\", \"divide\", \"power\"]\n",
    "def add(x, y):\n",
    "    \"\"\"This function adds two numbers\"\"\"\n",
    "    return x + y\n",
    "def subtract(x, y):\n",
    "    \"\"\"This function subtracts two numbers\"\"\"\n",
    "    return x - y\n",
    "def multiply(x, y):\n",
    "    \"\"\"This function multiplies two numbers\"\"\"\n",
    "    return x * y\n",
    "def divide(x, y):\n",
    "    \"\"\"This function divides two numbers\"\"\"\n",
    "    if y == 0:\n",
    "        return \"Error! Division by zero.\"\n",
    "    return x / y\n",
    "def power(x, y):\n",
    "    \"\"\"This function raises a number to a power\"\"\"\n",
    "    return x ** y"
   ]
  },
  {
   "cell_type": "code",
   "execution_count": null,
   "id": "fcfa311a",
   "metadata": {},
   "outputs": [],
   "source": [
    "#modules builtin\n",
    "\n",
    "import os\n",
    "import sys\n",
    "import argparse\n",
    "import logging\n",
    "import time\n",
    "import json\n",
    "import subprocess\n",
    "from datetime import datetime\n",
    "from pathlib import Path\n",
    "import shutil\n",
    "\n"
   ]
  },
  {
   "cell_type": "code",
   "execution_count": null,
   "id": "5e456113",
   "metadata": {},
   "outputs": [],
   "source": [
    "#namespace in python\n",
    "x = 10\n",
    "def func(): \n",
    "    y = 5\n",
    "    print(\"Inside func, x =\", x)  # Accessing global variable\n",
    "    print(\"Inside func, y =\", y)  # Accessing local variable\n",
    "    func()\n",
    "    print(\"Outside func, x =\", x)  # Accessing global variable\n",
    "func()\n",
    "# Example of namespaces in Python\n",
    "print(\"Outside func, y =\", y)  # This will raise an error because y is not defined in this scope    \n",
    "\n"
   ]
  }
 ],
 "metadata": {
  "language_info": {
   "name": "python"
  }
 },
 "nbformat": 4,
 "nbformat_minor": 5
}
