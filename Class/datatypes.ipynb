{
 "cells": [
  {
   "cell_type": "code",
   "execution_count": null,
   "id": "a7c5ad44",
   "metadata": {},
   "outputs": [
    {
     "name": "stdout",
     "output_type": "stream",
     "text": [
      "X value is: 10\n",
      "Y value is: 3\n",
      "X + Y =  13\n",
      "X - Y =  7\n",
      "X * Y =  30\n",
      "X / Y =  3.3333333333333335\n",
      "X // Y =  3\n",
      "X % Y =  1\n",
      "11\n",
      "2\n",
      "26\n",
      "13.0\n"
     ]
    }
   ],
   "source": [
    "#Integer\n",
    "x = 10\n",
    "y = 3\n",
    "print(\"X value is:\", x)\n",
    "print(\"Y value is:\", y)\n",
    "print(\"X + Y = \", x + y)\n",
    "print(\"X - Y = \", x - y)\n",
    "print(\"X * Y = \", x * y)\n",
    "print(\"X / Y = \", x / y)\n",
    "print(\"X // Y = \", x // y)\n",
    "print(\"X % Y = \", x % y)\n",
    "x += 1\n",
    "print(x)\n",
    "y -= 1\n",
    "print(y)\n",
    "z= x + y\n",
    "z *= 2\n",
    "print(z)\n",
    "z /= 2\n",
    "print(z)"
   ]
  },
  {
   "cell_type": "code",
   "execution_count": 1,
   "id": "a85fff0e",
   "metadata": {},
   "outputs": [
    {
     "name": "stdout",
     "output_type": "stream",
     "text": [
      "X value is: 3.5\n",
      "Y value is: 2.6\n",
      "X + Y =  6.1\n",
      "X - Y =  0.8999999999999999\n",
      "X * Y =  9.1\n",
      "X / Y =  1.346153846153846\n",
      "X // Y =  1.0\n",
      "X % Y =  0.8999999999999999\n"
     ]
    }
   ],
   "source": [
    "#Float\n",
    "x = 3.5\n",
    "y = 2.6\n",
    "print(\"X value is:\", x)\n",
    "print(\"Y value is:\", y)\n",
    "print(\"X + Y = \", x + y)\n",
    "print(\"X - Y = \", x - y)\n",
    "print(\"X * Y = \", x * y)\n",
    "print(\"X / Y = \", x / y)\n",
    "print(\"X // Y = \", x // y)\n",
    "print(\"X % Y = \", x % y)"
   ]
  },
  {
   "cell_type": "code",
   "execution_count": 16,
   "id": "529ec359",
   "metadata": {},
   "outputs": [
    {
     "name": "stdout",
     "output_type": "stream",
     "text": [
      "Hello\n",
      "World\n",
      "Name + Greeting: Hello World\n",
      "Name * 3: HelloHelloHello\n",
      "Name[0]: H\n"
     ]
    }
   ],
   "source": [
    "#String\n",
    "name = \"Hello\"\n",
    "greeting = \"World\"\n",
    "print(name)\n",
    "print(greeting)\n",
    "print(\"Name + Greeting:\", name + ' ' + greeting) #Concatenation\n",
    "print(\"Name * 3:\", name * 3) #Repetition\n",
    "print(\"Name[0]:\", name[0]) #Indexing"
   ]
  },
  {
   "cell_type": "code",
   "execution_count": null,
   "id": "24a676ba",
   "metadata": {},
   "outputs": [],
   "source": [
    "#Boolean\n",
    "is_true = True\n",
    "is_false = False\n",
    "print(\"Is True:\", is_true)\n",
    "print(\"Is False:\", is_false)\n",
    "print(\"Is True and Is False:\", is_true and is_false) #Logical AND\n",
    "print(\"Is True or Is False:\", is_true or is_false) #Logical OR\n",
    "print(\"Not Is True:\", not is_true) #Logical NOT"
   ]
  },
  {
   "cell_type": "code",
   "execution_count": null,
   "id": "f5f6fb9f",
   "metadata": {},
   "outputs": [],
   "source": []
  }
 ],
 "metadata": {
  "kernelspec": {
   "display_name": ".venv",
   "language": "python",
   "name": "python3"
  },
  "language_info": {
   "codemirror_mode": {
    "name": "ipython",
    "version": 3
   },
   "file_extension": ".py",
   "mimetype": "text/x-python",
   "name": "python",
   "nbconvert_exporter": "python",
   "pygments_lexer": "ipython3",
   "version": "3.13.0"
  }
 },
 "nbformat": 4,
 "nbformat_minor": 5
}
