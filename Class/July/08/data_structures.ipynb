{
 "cells": [
  {
   "cell_type": "code",
   "execution_count": null,
   "id": "1d7c88a9",
   "metadata": {},
   "outputs": [
    {
     "name": "stdout",
     "output_type": "stream",
     "text": [
      "Even numbers: [10, 20, 30, 40, 50]\n",
      "Odd numbers: [11, 21, 31, 41, 51]\n",
      "Minimum even number: 10\n",
      "Minimum odd number: 11\n"
     ]
    }
   ],
   "source": [
    "#Take a list and find out if the numbers in the list are in even or odd using for loop\n",
    "result = []\n",
    "while True:\n",
    "    try:\n",
    "        number = int(input(\"Enter a number (or type 'done' to finish): \"))\n",
    "        result.append(number)\n",
    "    except ValueError:\n",
    "        break\n",
    "\n",
    "odd_list = []\n",
    "even_list = []\n",
    "\n",
    "for number in result:\n",
    "    if number % 2 == 0:\n",
    "        even_list.append(number)\n",
    "    else:\n",
    "        odd_list.append(number)\n",
    "\n",
    "print(f\"Even numbers: {even_list}\")\n",
    "print(f\"Odd numbers: {odd_list}\")\n",
    "\n",
    "min_even = even_list[0] \n",
    "min_odd = odd_list[0] \n",
    "\n",
    "for number in even_list:\n",
    "    if(number < min_even):\n",
    "        min_even = number\n",
    "\n",
    "for number in odd_list:\n",
    "    if(number < min_odd):\n",
    "        min_odd = number\n",
    "        \n",
    "print(f\"Minimum even number: {min_even}\")\n",
    "print(f\"Minimum odd number: {min_odd}\")"
   ]
  },
  {
   "cell_type": "code",
   "execution_count": 6,
   "id": "92701ceb",
   "metadata": {},
   "outputs": [
    {
     "name": "stdout",
     "output_type": "stream",
     "text": [
      "The Sun is not a planet, it's a star\n",
      "Sun\n",
      "Earth\n",
      "Jupiter\n"
     ]
    }
   ],
   "source": [
    "# create list with strings use for loop to display them\n",
    "planet_list = []\n",
    "while True:\n",
    "    string = input(\"Enter a planet (or type 'done' to finish): \")\n",
    "    if string.lower() == 'done' or string == '':\n",
    "        break\n",
    "    planet_list.append(string)\n",
    "\n",
    "for planet in planet_list:\n",
    "    if planet == 'Sun' or planet == 'sun':\n",
    "        print(\"The Sun is not a planet, it's a star\")\n",
    "    print(planet)"
   ]
  }
 ],
 "metadata": {
  "kernelspec": {
   "display_name": ".venv",
   "language": "python",
   "name": "python3"
  },
  "language_info": {
   "codemirror_mode": {
    "name": "ipython",
    "version": 3
   },
   "file_extension": ".py",
   "mimetype": "text/x-python",
   "name": "python",
   "nbconvert_exporter": "python",
   "pygments_lexer": "ipython3",
   "version": "3.13.0"
  }
 },
 "nbformat": 4,
 "nbformat_minor": 5
}
